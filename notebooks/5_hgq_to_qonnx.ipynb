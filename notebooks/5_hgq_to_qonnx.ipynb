{
 "cells": [
  {
   "cell_type": "code",
   "execution_count": 1,
   "metadata": {},
   "outputs": [],
   "source": [
    "import keras\n",
    "import numpy as np\n",
    "from HGQ.layers import HDense, HConv2D, PMaxPooling2D, PFlatten, PReshape, HQuantize\n",
    "from HGQ import ResetMinMax, FreeBOPs\n",
    "from HGQ import trace_minmax, to_proxy_model"
   ]
  },
  {
   "cell_type": "code",
   "execution_count": 2,
   "metadata": {},
   "outputs": [],
   "source": [
    "(x_train, y_train), (x_test, y_test) = keras.datasets.mnist.load_data()\n",
    "x_train = x_train.astype('float32') / 255\n",
    "x_test = x_test.astype('float32') / 255"
   ]
  },
  {
   "cell_type": "code",
   "execution_count": 3,
   "metadata": {},
   "outputs": [],
   "source": [
    "model = keras.models.Sequential([\n",
    "    HQuantize(beta=3e-5),\n",
    "    PReshape((28, 28, 1)),\n",
    "    PMaxPooling2D((2, 2)),\n",
    "    HConv2D(1, (3, 3), activation='relu', beta=3e-5, parallel_factor=144),\n",
    "    PMaxPooling2D((2, 2)),\n",
    "    HConv2D(1, (3, 3), activation='relu', beta=3e-5, parallel_factor=16),\n",
    "    PMaxPooling2D((2, 2)),\n",
    "    PFlatten(),\n",
    "    HDense(10, beta=3e-5)\n",
    "])"
   ]
  },
  {
   "cell_type": "code",
   "execution_count": 4,
   "metadata": {},
   "outputs": [
    {
     "name": "stderr",
     "output_type": "stream",
     "text": [
      "WARNING:absl:At this time, the v2.11+ optimizer `tf.keras.optimizers.Adam` runs slowly on M1/M2 Macs, please use the legacy Keras optimizer instead, located at `tf.keras.optimizers.legacy.Adam`.\n",
      "2024-06-27 15:06:03.457498: I external/local_xla/xla/service/service.cc:168] XLA service 0x177343d00 initialized for platform Host (this does not guarantee that XLA will be used). Devices:\n",
      "2024-06-27 15:06:03.457520: I external/local_xla/xla/service/service.cc:176]   StreamExecutor device (0): Host, Default Version\n",
      "WARNING: All log messages before absl::InitializeLog() is called are written to STDERR\n",
      "I0000 00:00:1719493563.465704       1 device_compiler.h:186] Compiled cluster using XLA!  This line is logged at most once for the lifetime of the process.\n",
      "2024-06-27 15:06:03.465881: E external/local_xla/xla/stream_executor/stream_executor_internal.h:177] SetPriority unimplemented for this stream.\n",
      "2024-06-27 15:06:05.925208: I tensorflow/compiler/mlir/tensorflow/utils/dump_mlir_util.cc:269] disabling MLIR crash reproducer, set env var `MLIR_CRASH_REPRODUCER_DIRECTORY` to enable.\n",
      "2024-06-27 15:06:06.118721: E external/local_xla/xla/stream_executor/stream_executor_internal.h:177] SetPriority unimplemented for this stream.\n"
     ]
    },
    {
     "name": "stdout",
     "output_type": "stream",
     "text": [
      "1/4 [======>.......................] - ETA: 8s - loss: 2.6829 - accuracy: 0.1250"
     ]
    },
    {
     "name": "stderr",
     "output_type": "stream",
     "text": [
      "2024-06-27 15:06:06.284652: E external/local_xla/xla/stream_executor/stream_executor_internal.h:177] SetPriority unimplemented for this stream.\n",
      "2024-06-27 15:06:06.284716: E external/local_xla/xla/stream_executor/stream_executor_internal.h:177] SetPriority unimplemented for this stream.\n",
      "2024-06-27 15:06:06.285390: E external/local_xla/xla/stream_executor/stream_executor_internal.h:177] SetPriority unimplemented for this stream.\n"
     ]
    },
    {
     "name": "stdout",
     "output_type": "stream",
     "text": [
      "4/4 [==============================] - 3s 106ms/step - loss: 2.6864 - accuracy: 0.1300 - bops: 13247.0000\n",
      "Model: \"sequential\"\n",
      "_________________________________________________________________\n",
      " Layer (type)                Output Shape              Param #   \n",
      "=================================================================\n",
      " h_quantize (HQuantize)      (None, 28, 28)            786       \n",
      "                                                                 \n",
      " p_reshape (PReshape)        (None, 28, 28, 1)         0         \n",
      "                                                                 \n",
      " p_max_pooling2d (PMaxPooli  (None, 14, 14, 1)         0         \n",
      " ng2D)                                                           \n",
      "                                                                 \n",
      " h_conv2d (HConv2D)          (None, 12, 12, 1)         165       \n",
      "                                                                 \n",
      " p_max_pooling2d_1 (PMaxPoo  (None, 6, 6, 1)           0         \n",
      " ling2D)                                                         \n",
      "                                                                 \n",
      " h_conv2d_1 (HConv2D)        (None, 4, 4, 1)           37        \n",
      "                                                                 \n",
      " p_max_pooling2d_2 (PMaxPoo  (None, 2, 2, 1)           0         \n",
      " ling2D)                                                         \n",
      "                                                                 \n",
      " p_flatten (PFlatten)        (None, 4)                 0         \n",
      "                                                                 \n",
      " h_dense (HDense)            (None, 10)                102       \n",
      "                                                                 \n",
      "=================================================================\n",
      "Total params: 1090 (4.26 KB)\n",
      "Trainable params: 1082 (4.23 KB)\n",
      "Non-trainable params: 8 (32.00 Byte)\n",
      "_________________________________________________________________\n"
     ]
    }
   ],
   "source": [
    "opt = keras.optimizers.Adam(learning_rate=0.001)\n",
    "loss = keras.losses.SparseCategoricalCrossentropy(from_logits=True)\n",
    "model.compile(optimizer=opt, loss=loss, metrics=['accuracy'])\n",
    "callbacks = [ResetMinMax(), FreeBOPs()]\n",
    "\n",
    "model.fit(x_train[:100], y_train[:100], epochs=1, batch_size=32, callbacks=callbacks)\n",
    "model.summary()"
   ]
  },
  {
   "cell_type": "code",
   "execution_count": 5,
   "metadata": {},
   "outputs": [
    {
     "name": "stdout",
     "output_type": "stream",
     "text": [
      "h_quantize: 0.0\n",
      "h_conv2d: 5920.0\n",
      "h_conv2d_1: 894.0\n",
      "h_dense: 219.0\n",
      "Model: \"model_3\"\n",
      "_________________________________________________________________\n",
      " Layer (type)                Output Shape              Param #   \n",
      "=================================================================\n",
      " input_1 (InputLayer)        [(None, 28, 28)]          0         \n",
      "                                                                 \n",
      " h_quantize (FixedPointQuan  (None, 28, 28)            2352      \n",
      " tizer)                                                          \n",
      "                                                                 \n",
      " p_reshape (Reshape)         (None, 28, 28, 1)         0         \n",
      "                                                                 \n",
      " p_max_pooling2d (MaxPoolin  (None, 14, 14, 1)         0         \n",
      " g2D)                                                            \n",
      "                                                                 \n",
      " h_conv2d (Conv2D)           (None, 12, 12, 1)         10        \n",
      "                                                                 \n",
      " h_conv2d_quantizer (FixedP  (None, 12, 12, 1)         432       \n",
      " ointQuantizer)                                                  \n",
      "                                                                 \n",
      " p_max_pooling2d_1 (MaxPool  (None, 6, 6, 1)           0         \n",
      " ing2D)                                                          \n",
      "                                                                 \n",
      " h_conv2d_1 (Conv2D)         (None, 4, 4, 1)           10        \n",
      "                                                                 \n",
      " h_conv2d_1_quantizer (Fixe  (None, 4, 4, 1)           48        \n",
      " dPointQuantizer)                                                \n",
      "                                                                 \n",
      " p_max_pooling2d_2 (MaxPool  (None, 2, 2, 1)           0         \n",
      " ing2D)                                                          \n",
      "                                                                 \n",
      " p_flatten (Flatten)         (None, 4)                 0         \n",
      "                                                                 \n",
      " h_dense (Dense)             (None, 10)                50        \n",
      "                                                                 \n",
      " h_dense_quantizer (FixedPo  (None, 10)                30        \n",
      " intQuantizer)                                                   \n",
      "                                                                 \n",
      "=================================================================\n",
      "Total params: 2932 (3.07 KB)\n",
      "Trainable params: 70 (280.00 Byte)\n",
      "Non-trainable params: 2862 (2.79 KB)\n",
      "_________________________________________________________________\n"
     ]
    }
   ],
   "source": [
    "trace_minmax(model, x_train, cover_factor=1.0)\n",
    "proxy = to_proxy_model(model, aggressive=True)\n",
    "proxy.summary()"
   ]
  },
  {
   "cell_type": "code",
   "execution_count": 6,
   "metadata": {},
   "outputs": [
    {
     "name": "stdout",
     "output_type": "stream",
     "text": [
      "Model: \"model_3\"\n",
      "_________________________________________________________________\n",
      " Layer (type)                Output Shape              Param #   \n",
      "=================================================================\n",
      " input_1 (InputLayer)        [(None, 28, 28)]          0         \n",
      "                                                                 \n",
      " h_quantize (FixedPointQuan  (None, 28, 28)            2352      \n",
      " tizer)                                                          \n",
      "                                                                 \n",
      " p_reshape (Reshape)         (None, 28, 28, 1)         0         \n",
      "                                                                 \n",
      " p_max_pooling2d (MaxPoolin  (None, 14, 14, 1)         0         \n",
      " g2D)                                                            \n",
      "                                                                 \n",
      " h_conv2d (Conv2D)           (None, 12, 12, 1)         10        \n",
      "                                                                 \n",
      " h_conv2d_quantizer (FixedP  (None, 12, 12, 1)         432       \n",
      " ointQuantizer)                                                  \n",
      "                                                                 \n",
      " p_max_pooling2d_1 (MaxPool  (None, 6, 6, 1)           0         \n",
      " ing2D)                                                          \n",
      "                                                                 \n",
      " h_conv2d_1 (Conv2D)         (None, 4, 4, 1)           10        \n",
      "                                                                 \n",
      " h_conv2d_1_quantizer (Fixe  (None, 4, 4, 1)           48        \n",
      " dPointQuantizer)                                                \n",
      "                                                                 \n",
      " p_max_pooling2d_2 (MaxPool  (None, 2, 2, 1)           0         \n",
      " ing2D)                                                          \n",
      "                                                                 \n",
      " p_flatten (Flatten)         (None, 4)                 0         \n",
      "                                                                 \n",
      " h_dense (Dense)             (None, 10)                50        \n",
      "                                                                 \n",
      " h_dense_quantizer (FixedPo  (None, 10)                30        \n",
      " intQuantizer)                                                   \n",
      "                                                                 \n",
      "=================================================================\n",
      "Total params: 2932 (3.07 KB)\n",
      "Trainable params: 70 (280.00 Byte)\n",
      "Non-trainable params: 2862 (2.79 KB)\n",
      "_________________________________________________________________\n"
     ]
    },
    {
     "name": "stderr",
     "output_type": "stream",
     "text": [
      "/opt/anaconda3/lib/python3.11/site-packages/keras/src/initializers/__init__.py:144: UserWarning: The `keras.initializers.serialize()` API should only be used for objects of type `keras.initializers.Initializer`. Found an instance of type <class 'tf_keras.src.initializers.initializers.GlorotUniform'>, which may lead to improper serialization.\n",
      "  warnings.warn(\n",
      "/opt/anaconda3/lib/python3.11/site-packages/keras/src/initializers/__init__.py:144: UserWarning: The `keras.initializers.serialize()` API should only be used for objects of type `keras.initializers.Initializer`. Found an instance of type <class 'tf_keras.src.initializers.initializers.Zeros'>, which may lead to improper serialization.\n",
      "  warnings.warn(\n",
      "2024-06-27 15:06:14.062161: I tensorflow/core/grappler/clusters/single_machine.cc:361] Starting new session\n",
      "2024-06-27 15:06:14.171857: I tensorflow/core/grappler/clusters/single_machine.cc:361] Starting new session\n"
     ]
    }
   ],
   "source": [
    "from qonnx.converters.keras import from_keras\n",
    "import onnx\n",
    "onnx_model, external_storage = from_keras(proxy, \"test_qkeras_conversion\", opset=9)\n",
    "onnx.save(onnx_model, '/tmp/hgq.onnx')"
   ]
  },
  {
   "cell_type": "code",
   "execution_count": 7,
   "metadata": {},
   "outputs": [],
   "source": [
    "import netron\n",
    "import os\n",
    "from IPython.display import IFrame\n",
    "\n",
    "def showInNetron(model_filename: str, localhost_url: str = None, port: int = None):\n",
    "    \"\"\"Shows a ONNX model file in the Jupyter Notebook using Netron.\n",
    "\n",
    "    :param model_filename: The path to the ONNX model file.\n",
    "    :type model_filename: str\n",
    "\n",
    "    :param localhost_url: The IP address used by the Jupyter IFrame to show the model.\n",
    "     Defaults to localhost.\n",
    "    :type localhost_url: str, optional\n",
    "\n",
    "    :param port: The port number used by Netron and the Jupyter IFrame to show\n",
    "     the ONNX model.  Defaults to 8088.\n",
    "    :type port: int, optional\n",
    "\n",
    "    :return: The IFrame displaying the ONNX model.\n",
    "    :rtype: IPython.lib.display.IFrame\n",
    "    \"\"\"\n",
    "    try:\n",
    "        port = port or int(os.getenv(\"NETRON_PORT\", default=\"8088\"))\n",
    "    except ValueError:\n",
    "        port = 8088\n",
    "    localhost_url = localhost_url or os.getenv(\"LOCALHOST_URL\", default=\"localhost\")\n",
    "    netron.start(model_filename, address=(\"0.0.0.0\", port), browse=False)\n",
    "    return IFrame(src=f\"http://{localhost_url}:{port}/\", width=\"100%\", height=400)"
   ]
  },
  {
   "cell_type": "code",
   "execution_count": 8,
   "metadata": {},
   "outputs": [
    {
     "name": "stdout",
     "output_type": "stream",
     "text": [
      "Serving '/tmp/hgq.onnx' at http://0.0.0.0:8088\n"
     ]
    },
    {
     "data": {
      "text/html": [
       "\n",
       "        <iframe\n",
       "            width=\"100%\"\n",
       "            height=\"400\"\n",
       "            src=\"http://localhost:8088/\"\n",
       "            frameborder=\"0\"\n",
       "            allowfullscreen\n",
       "            \n",
       "        ></iframe>\n",
       "        "
      ],
      "text/plain": [
       "<IPython.lib.display.IFrame at 0x2f02151d0>"
      ]
     },
     "execution_count": 8,
     "metadata": {},
     "output_type": "execute_result"
    }
   ],
   "source": [
    "showInNetron('/tmp/hgq.onnx')"
   ]
  },
  {
   "cell_type": "code",
   "execution_count": 11,
   "metadata": {},
   "outputs": [
    {
     "name": "stderr",
     "output_type": "stream",
     "text": [
      "Batch [100/100]: running: 100%|██████████| 100/100 [00:01<00:00, 73.61it/s]\n"
     ]
    },
    {
     "name": "stdout",
     "output_type": "stream",
     "text": [
      "4/4 [==============================] - 0s 23ms/step\n"
     ]
    },
    {
     "data": {
      "text/plain": [
       "True"
      ]
     },
     "execution_count": 11,
     "metadata": {},
     "output_type": "execute_result"
    }
   ],
   "source": [
    "from qonnx.util.exec_qonnx import exec_qonnx\n",
    "np.save(\"/tmp/x_test.npy\", x_test[:100])\n",
    "qonnx_out = exec_qonnx('/tmp/hgq.onnx', \"/tmp/x_test.npy\")\n",
    "hgq_out = proxy.predict(x_test[:100])\n",
    "np.isclose(qonnx_out, hgq_out).all()"
   ]
  },
  {
   "cell_type": "code",
   "execution_count": null,
   "metadata": {},
   "outputs": [],
   "source": []
  }
 ],
 "metadata": {
  "kernelspec": {
   "display_name": "venv",
   "language": "python",
   "name": "python3"
  },
  "language_info": {
   "codemirror_mode": {
    "name": "ipython",
    "version": 3
   },
   "file_extension": ".py",
   "mimetype": "text/x-python",
   "name": "python",
   "nbconvert_exporter": "python",
   "pygments_lexer": "ipython3",
   "version": "3.11.8"
  },
  "vscode": {
   "interpreter": {
    "hash": "0502196cae5450340bff0232db0d443756691d3235661ea220d02e5c6b2dd97d"
   }
  }
 },
 "nbformat": 4,
 "nbformat_minor": 4
}
